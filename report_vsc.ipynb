{
 "cells": [
  {
   "cell_type": "markdown",
   "metadata": {},
   "source": [
    "## Data Analysis"
   ]
  },
  {
   "cell_type": "code",
   "execution_count": 73,
   "metadata": {},
   "outputs": [],
   "source": [
    "\n",
    "import pandas as pd\n",
    "import matplotlib.pyplot as plt\n",
    "import numpy as np\n",
    "import os"
   ]
  },
  {
   "cell_type": "code",
   "execution_count": 74,
   "metadata": {},
   "outputs": [
    {
     "data": {
      "text/html": [
       "<div>\n",
       "<style scoped>\n",
       "    .dataframe tbody tr th:only-of-type {\n",
       "        vertical-align: middle;\n",
       "    }\n",
       "\n",
       "    .dataframe tbody tr th {\n",
       "        vertical-align: top;\n",
       "    }\n",
       "\n",
       "    .dataframe thead th {\n",
       "        text-align: right;\n",
       "    }\n",
       "</style>\n",
       "<table border=\"1\" class=\"dataframe\">\n",
       "  <thead>\n",
       "    <tr style=\"text-align: right;\">\n",
       "      <th></th>\n",
       "      <th>Time</th>\n",
       "      <th>Temperature</th>\n",
       "      <th>Humidity</th>\n",
       "      <th>UV</th>\n",
       "      <th>Cloud cover</th>\n",
       "    </tr>\n",
       "  </thead>\n",
       "  <tbody>\n",
       "    <tr>\n",
       "      <th>0</th>\n",
       "      <td>00:00</td>\n",
       "      <td>26</td>\n",
       "      <td>89%</td>\n",
       "      <td>1</td>\n",
       "      <td>0 mm</td>\n",
       "    </tr>\n",
       "    <tr>\n",
       "      <th>1</th>\n",
       "      <td>03:00</td>\n",
       "      <td>25</td>\n",
       "      <td>92%</td>\n",
       "      <td>1</td>\n",
       "      <td>0 mm</td>\n",
       "    </tr>\n",
       "    <tr>\n",
       "      <th>2</th>\n",
       "      <td>06:00</td>\n",
       "      <td>25</td>\n",
       "      <td>93%</td>\n",
       "      <td>6</td>\n",
       "      <td>0 mm</td>\n",
       "    </tr>\n",
       "    <tr>\n",
       "      <th>3</th>\n",
       "      <td>09:00</td>\n",
       "      <td>29</td>\n",
       "      <td>72%</td>\n",
       "      <td>7</td>\n",
       "      <td>0 mm</td>\n",
       "    </tr>\n",
       "    <tr>\n",
       "      <th>4</th>\n",
       "      <td>12:00</td>\n",
       "      <td>32</td>\n",
       "      <td>62%</td>\n",
       "      <td>7</td>\n",
       "      <td>1.4 mm</td>\n",
       "    </tr>\n",
       "    <tr>\n",
       "      <th>5</th>\n",
       "      <td>15:00</td>\n",
       "      <td>30</td>\n",
       "      <td>70%</td>\n",
       "      <td>7</td>\n",
       "      <td>0 mm</td>\n",
       "    </tr>\n",
       "    <tr>\n",
       "      <th>6</th>\n",
       "      <td>18:00</td>\n",
       "      <td>28</td>\n",
       "      <td>82%</td>\n",
       "      <td>1</td>\n",
       "      <td>0.4 mm</td>\n",
       "    </tr>\n",
       "    <tr>\n",
       "      <th>7</th>\n",
       "      <td>21:00</td>\n",
       "      <td>26</td>\n",
       "      <td>94%</td>\n",
       "      <td>1</td>\n",
       "      <td>0 mm</td>\n",
       "    </tr>\n",
       "  </tbody>\n",
       "</table>\n",
       "</div>"
      ],
      "text/plain": [
       "    Time  Temperature Humidity  UV Cloud cover\n",
       "0  00:00           26      89%   1        0 mm\n",
       "1  03:00           25      92%   1        0 mm\n",
       "2  06:00           25      93%   6        0 mm\n",
       "3  09:00           29      72%   7        0 mm\n",
       "4  12:00           32      62%   7      1.4 mm\n",
       "5  15:00           30      70%   7        0 mm\n",
       "6  18:00           28      82%   1      0.4 mm\n",
       "7  21:00           26      94%   1        0 mm"
      ]
     },
     "execution_count": 74,
     "metadata": {},
     "output_type": "execute_result"
    }
   ],
   "source": [
    "path = 'weather (1).csv'\n",
    "dataframe = pd.read_csv(path)\n",
    "\n",
    "dataframe\n"
   ]
  },
  {
   "cell_type": "markdown",
   "metadata": {},
   "source": [
    "## HUMIDITY"
   ]
  },
  {
   "cell_type": "code",
   "execution_count": 75,
   "metadata": {},
   "outputs": [
    {
     "data": {
      "text/html": [
       "<div>\n",
       "<style scoped>\n",
       "    .dataframe tbody tr th:only-of-type {\n",
       "        vertical-align: middle;\n",
       "    }\n",
       "\n",
       "    .dataframe tbody tr th {\n",
       "        vertical-align: top;\n",
       "    }\n",
       "\n",
       "    .dataframe thead th {\n",
       "        text-align: right;\n",
       "    }\n",
       "</style>\n",
       "<table border=\"1\" class=\"dataframe\">\n",
       "  <thead>\n",
       "    <tr style=\"text-align: right;\">\n",
       "      <th></th>\n",
       "      <th>Time</th>\n",
       "      <th>Humidity</th>\n",
       "    </tr>\n",
       "  </thead>\n",
       "  <tbody>\n",
       "    <tr>\n",
       "      <th>0</th>\n",
       "      <td>00:00</td>\n",
       "      <td>89%</td>\n",
       "    </tr>\n",
       "    <tr>\n",
       "      <th>1</th>\n",
       "      <td>03:00</td>\n",
       "      <td>92%</td>\n",
       "    </tr>\n",
       "    <tr>\n",
       "      <th>2</th>\n",
       "      <td>06:00</td>\n",
       "      <td>93%</td>\n",
       "    </tr>\n",
       "    <tr>\n",
       "      <th>3</th>\n",
       "      <td>09:00</td>\n",
       "      <td>72%</td>\n",
       "    </tr>\n",
       "    <tr>\n",
       "      <th>4</th>\n",
       "      <td>12:00</td>\n",
       "      <td>62%</td>\n",
       "    </tr>\n",
       "    <tr>\n",
       "      <th>5</th>\n",
       "      <td>15:00</td>\n",
       "      <td>70%</td>\n",
       "    </tr>\n",
       "    <tr>\n",
       "      <th>6</th>\n",
       "      <td>18:00</td>\n",
       "      <td>82%</td>\n",
       "    </tr>\n",
       "    <tr>\n",
       "      <th>7</th>\n",
       "      <td>21:00</td>\n",
       "      <td>94%</td>\n",
       "    </tr>\n",
       "  </tbody>\n",
       "</table>\n",
       "</div>"
      ],
      "text/plain": [
       "    Time Humidity\n",
       "0  00:00      89%\n",
       "1  03:00      92%\n",
       "2  06:00      93%\n",
       "3  09:00      72%\n",
       "4  12:00      62%\n",
       "5  15:00      70%\n",
       "6  18:00      82%\n",
       "7  21:00      94%"
      ]
     },
     "execution_count": 75,
     "metadata": {},
     "output_type": "execute_result"
    }
   ],
   "source": [
    "humidity = dataframe[['Time','Humidity']]\n",
    "humidity\n"
   ]
  },
  {
   "cell_type": "code",
   "execution_count": 76,
   "metadata": {},
   "outputs": [
    {
     "data": {
      "text/plain": [
       "0    89\n",
       "1    92\n",
       "2    93\n",
       "3    72\n",
       "4    62\n",
       "5    70\n",
       "6    82\n",
       "7    94\n",
       "Name: Humidity, dtype: object"
      ]
     },
     "execution_count": 76,
     "metadata": {},
     "output_type": "execute_result"
    }
   ],
   "source": [
    "dataframe['Humidity'].str[0:2]"
   ]
  },
  {
   "cell_type": "code",
   "execution_count": 77,
   "metadata": {},
   "outputs": [
    {
     "name": "stdout",
     "output_type": "stream",
     "text": [
      "{'89', '93', '72', '92', '70', '82', '94', '62'}\n"
     ]
    }
   ],
   "source": [
    "print(set(dataframe['Humidity'].str[0:2]))"
   ]
  },
  {
   "cell_type": "markdown",
   "metadata": {},
   "source": [
    "#Average of humidity"
   ]
  },
  {
   "cell_type": "code",
   "execution_count": 78,
   "metadata": {},
   "outputs": [
    {
     "data": {
      "text/plain": [
       "0    89\n",
       "1    92\n",
       "2    93\n",
       "3    72\n",
       "4    62\n",
       "5    70\n",
       "6    82\n",
       "7    94\n",
       "Name: Humidity, dtype: int64"
      ]
     },
     "execution_count": 78,
     "metadata": {},
     "output_type": "execute_result"
    }
   ],
   "source": [
    "s = pd.Series(dataframe['Humidity'].str[0:2])\n",
    "pd.to_numeric(s, errors= 'ignore')"
   ]
  },
  {
   "cell_type": "markdown",
   "metadata": {},
   "source": [
    "#Average humidity"
   ]
  },
  {
   "cell_type": "code",
   "execution_count": 79,
   "metadata": {},
   "outputs": [
    {
     "name": "stdout",
     "output_type": "stream",
     "text": [
      "81.75\n"
     ]
    }
   ],
   "source": [
    "avg_humidity = pd.to_numeric(dataframe['Humidity'].str[0:2], downcast='integer').mean()\n",
    "print(avg_humidity)"
   ]
  },
  {
   "cell_type": "code",
   "execution_count": 80,
   "metadata": {},
   "outputs": [
    {
     "data": {
      "image/png": "[encoded data removed]",
      "text/plain": [
       "<Figure size 700x400 with 1 Axes>"
      ]
     },
     "metadata": {},
     "output_type": "display_data"
    }
   ],
   "source": [
    "time = dataframe['Time'].head(12)\n",
    "humidity = pd.to_numeric(dataframe['Humidity'].str[0:2], downcast= 'integer')\n",
    "\n",
    "#figure size\n",
    "fig = plt.figure(figsize = (7, 4))\n",
    "\n",
    "#Honrizontal Plot\n",
    "plt.plot(time[0:10], humidity[0:10], color = 'pink')\n",
    "\n",
    "plt.xlabel('Time')\n",
    "plt.ylabel('Humidity in %')\n",
    "plt.title('Humidity vs. Time')\n",
    "\n",
    "#Show plot\n",
    "plt.show()"
   ]
  },
  {
   "cell_type": "markdown",
   "metadata": {},
   "source": [
    "## TEMPERATURE"
   ]
  },
  {
   "cell_type": "code",
   "execution_count": 81,
   "metadata": {},
   "outputs": [
    {
     "data": {
      "text/html": [
       "<div>\n",
       "<style scoped>\n",
       "    .dataframe tbody tr th:only-of-type {\n",
       "        vertical-align: middle;\n",
       "    }\n",
       "\n",
       "    .dataframe tbody tr th {\n",
       "        vertical-align: top;\n",
       "    }\n",
       "\n",
       "    .dataframe thead th {\n",
       "        text-align: right;\n",
       "    }\n",
       "</style>\n",
       "<table border=\"1\" class=\"dataframe\">\n",
       "  <thead>\n",
       "    <tr style=\"text-align: right;\">\n",
       "      <th></th>\n",
       "      <th>Time</th>\n",
       "      <th>Temperature</th>\n",
       "    </tr>\n",
       "  </thead>\n",
       "  <tbody>\n",
       "    <tr>\n",
       "      <th>0</th>\n",
       "      <td>00:00</td>\n",
       "      <td>26</td>\n",
       "    </tr>\n",
       "    <tr>\n",
       "      <th>1</th>\n",
       "      <td>03:00</td>\n",
       "      <td>25</td>\n",
       "    </tr>\n",
       "    <tr>\n",
       "      <th>2</th>\n",
       "      <td>06:00</td>\n",
       "      <td>25</td>\n",
       "    </tr>\n",
       "    <tr>\n",
       "      <th>3</th>\n",
       "      <td>09:00</td>\n",
       "      <td>29</td>\n",
       "    </tr>\n",
       "    <tr>\n",
       "      <th>4</th>\n",
       "      <td>12:00</td>\n",
       "      <td>32</td>\n",
       "    </tr>\n",
       "    <tr>\n",
       "      <th>5</th>\n",
       "      <td>15:00</td>\n",
       "      <td>30</td>\n",
       "    </tr>\n",
       "    <tr>\n",
       "      <th>6</th>\n",
       "      <td>18:00</td>\n",
       "      <td>28</td>\n",
       "    </tr>\n",
       "    <tr>\n",
       "      <th>7</th>\n",
       "      <td>21:00</td>\n",
       "      <td>26</td>\n",
       "    </tr>\n",
       "  </tbody>\n",
       "</table>\n",
       "</div>"
      ],
      "text/plain": [
       "    Time  Temperature\n",
       "0  00:00           26\n",
       "1  03:00           25\n",
       "2  06:00           25\n",
       "3  09:00           29\n",
       "4  12:00           32\n",
       "5  15:00           30\n",
       "6  18:00           28\n",
       "7  21:00           26"
      ]
     },
     "execution_count": 81,
     "metadata": {},
     "output_type": "execute_result"
    }
   ],
   "source": [
    "temperature = dataframe[['Time', 'Temperature']]\n",
    "temperature"
   ]
  },
  {
   "cell_type": "markdown",
   "metadata": {},
   "source": [
    "#Find heat amplitute"
   ]
  },
  {
   "cell_type": "code",
   "execution_count": 82,
   "metadata": {},
   "outputs": [
    {
     "name": "stdout",
     "output_type": "stream",
     "text": [
      "7\n"
     ]
    }
   ],
   "source": [
    "heat_amplitute = dataframe['Temperature'].max() - dataframe['Temperature'].min()\n",
    "print(heat_amplitute)"
   ]
  },
  {
   "cell_type": "code",
   "execution_count": 83,
   "metadata": {},
   "outputs": [
    {
     "data": {
      "image/png": "[encoded data removed]",
      "text/plain": [
       "<Figure size 700x400 with 1 Axes>"
      ]
     },
     "metadata": {},
     "output_type": "display_data"
    }
   ],
   "source": [
    "time = dataframe['Time'].head(12)\n",
    "temperature = dataframe['Temperature'].head(12)\n",
    "\n",
    "#figure size\n",
    "fig = plt.figure(figsize = (7, 4))\n",
    "\n",
    "#Honrizontal Plot\n",
    "plt.plot(time[0:10], temperature[0:10], color = 'purple')\n",
    "\n",
    "plt.xlabel('Time')\n",
    "plt.ylabel('Temperature in Celcius')\n",
    "plt.title('Temperature vs. Time')\n",
    "\n",
    "#Show plot\n",
    "plt.show()"
   ]
  },
  {
   "cell_type": "markdown",
   "metadata": {},
   "source": [
    "## UV"
   ]
  },
  {
   "cell_type": "code",
   "execution_count": 84,
   "metadata": {},
   "outputs": [
    {
     "data": {
      "text/html": [
       "<div>\n",
       "<style scoped>\n",
       "    .dataframe tbody tr th:only-of-type {\n",
       "        vertical-align: middle;\n",
       "    }\n",
       "\n",
       "    .dataframe tbody tr th {\n",
       "        vertical-align: top;\n",
       "    }\n",
       "\n",
       "    .dataframe thead th {\n",
       "        text-align: right;\n",
       "    }\n",
       "</style>\n",
       "<table border=\"1\" class=\"dataframe\">\n",
       "  <thead>\n",
       "    <tr style=\"text-align: right;\">\n",
       "      <th></th>\n",
       "      <th>Time</th>\n",
       "      <th>UV</th>\n",
       "    </tr>\n",
       "  </thead>\n",
       "  <tbody>\n",
       "    <tr>\n",
       "      <th>0</th>\n",
       "      <td>00:00</td>\n",
       "      <td>1</td>\n",
       "    </tr>\n",
       "    <tr>\n",
       "      <th>1</th>\n",
       "      <td>03:00</td>\n",
       "      <td>1</td>\n",
       "    </tr>\n",
       "    <tr>\n",
       "      <th>2</th>\n",
       "      <td>06:00</td>\n",
       "      <td>6</td>\n",
       "    </tr>\n",
       "    <tr>\n",
       "      <th>3</th>\n",
       "      <td>09:00</td>\n",
       "      <td>7</td>\n",
       "    </tr>\n",
       "    <tr>\n",
       "      <th>4</th>\n",
       "      <td>12:00</td>\n",
       "      <td>7</td>\n",
       "    </tr>\n",
       "    <tr>\n",
       "      <th>5</th>\n",
       "      <td>15:00</td>\n",
       "      <td>7</td>\n",
       "    </tr>\n",
       "    <tr>\n",
       "      <th>6</th>\n",
       "      <td>18:00</td>\n",
       "      <td>1</td>\n",
       "    </tr>\n",
       "    <tr>\n",
       "      <th>7</th>\n",
       "      <td>21:00</td>\n",
       "      <td>1</td>\n",
       "    </tr>\n",
       "  </tbody>\n",
       "</table>\n",
       "</div>"
      ],
      "text/plain": [
       "    Time  UV\n",
       "0  00:00   1\n",
       "1  03:00   1\n",
       "2  06:00   6\n",
       "3  09:00   7\n",
       "4  12:00   7\n",
       "5  15:00   7\n",
       "6  18:00   1\n",
       "7  21:00   1"
      ]
     },
     "execution_count": 84,
     "metadata": {},
     "output_type": "execute_result"
    }
   ],
   "source": [
    "uv = dataframe[['Time','UV']]\n",
    "uv"
   ]
  },
  {
   "cell_type": "markdown",
   "metadata": {},
   "source": [
    "#Find max UV vs. Time"
   ]
  },
  {
   "cell_type": "code",
   "execution_count": 85,
   "metadata": {},
   "outputs": [
    {
     "name": "stdout",
     "output_type": "stream",
     "text": [
      "7\n"
     ]
    }
   ],
   "source": [
    "print(dataframe['UV'].max())\n",
    "# Waring "
   ]
  },
  {
   "cell_type": "markdown",
   "metadata": {},
   "source": [
    "#Warning"
   ]
  },
  {
   "cell_type": "code",
   "execution_count": 86,
   "metadata": {},
   "outputs": [
    {
     "data": {
      "text/html": [
       "<div>\n",
       "<style scoped>\n",
       "    .dataframe tbody tr th:only-of-type {\n",
       "        vertical-align: middle;\n",
       "    }\n",
       "\n",
       "    .dataframe tbody tr th {\n",
       "        vertical-align: top;\n",
       "    }\n",
       "\n",
       "    .dataframe thead th {\n",
       "        text-align: right;\n",
       "    }\n",
       "</style>\n",
       "<table border=\"1\" class=\"dataframe\">\n",
       "  <thead>\n",
       "    <tr style=\"text-align: right;\">\n",
       "      <th></th>\n",
       "      <th>Time</th>\n",
       "      <th>UV</th>\n",
       "      <th>High_UV</th>\n",
       "      <th>Status</th>\n",
       "    </tr>\n",
       "  </thead>\n",
       "  <tbody>\n",
       "    <tr>\n",
       "      <th>0</th>\n",
       "      <td>00:00</td>\n",
       "      <td>1</td>\n",
       "      <td>No</td>\n",
       "      <td>Not very Harmful</td>\n",
       "    </tr>\n",
       "    <tr>\n",
       "      <th>1</th>\n",
       "      <td>03:00</td>\n",
       "      <td>1</td>\n",
       "      <td>No</td>\n",
       "      <td>Not very Harmful</td>\n",
       "    </tr>\n",
       "    <tr>\n",
       "      <th>2</th>\n",
       "      <td>06:00</td>\n",
       "      <td>6</td>\n",
       "      <td>Yes</td>\n",
       "      <td>Harmful to skins</td>\n",
       "    </tr>\n",
       "    <tr>\n",
       "      <th>3</th>\n",
       "      <td>09:00</td>\n",
       "      <td>7</td>\n",
       "      <td>Yes</td>\n",
       "      <td>Harmful to skins</td>\n",
       "    </tr>\n",
       "    <tr>\n",
       "      <th>4</th>\n",
       "      <td>12:00</td>\n",
       "      <td>7</td>\n",
       "      <td>Yes</td>\n",
       "      <td>Harmful to skins</td>\n",
       "    </tr>\n",
       "    <tr>\n",
       "      <th>5</th>\n",
       "      <td>15:00</td>\n",
       "      <td>7</td>\n",
       "      <td>Yes</td>\n",
       "      <td>Harmful to skins</td>\n",
       "    </tr>\n",
       "    <tr>\n",
       "      <th>6</th>\n",
       "      <td>18:00</td>\n",
       "      <td>1</td>\n",
       "      <td>No</td>\n",
       "      <td>Not very Harmful</td>\n",
       "    </tr>\n",
       "    <tr>\n",
       "      <th>7</th>\n",
       "      <td>21:00</td>\n",
       "      <td>1</td>\n",
       "      <td>No</td>\n",
       "      <td>Not very Harmful</td>\n",
       "    </tr>\n",
       "  </tbody>\n",
       "</table>\n",
       "</div>"
      ],
      "text/plain": [
       "    Time  UV High_UV            Status\n",
       "0  00:00   1      No  Not very Harmful\n",
       "1  03:00   1      No  Not very Harmful\n",
       "2  06:00   6     Yes  Harmful to skins\n",
       "3  09:00   7     Yes  Harmful to skins\n",
       "4  12:00   7     Yes  Harmful to skins\n",
       "5  15:00   7     Yes  Harmful to skins\n",
       "6  18:00   1      No  Not very Harmful\n",
       "7  21:00   1      No  Not very Harmful"
      ]
     },
     "execution_count": 86,
     "metadata": {},
     "output_type": "execute_result"
    }
   ],
   "source": [
    "uv = dataframe['UV']\n",
    "high_uv = dataframe['High_UV']= uv.apply(lambda x : 'Yes' if x >= 6 else 'No')\n",
    "dataframe['Status'] = high_uv.apply(lambda x : 'Harmful to skins' if x == 'Yes' else 'Not very Harmful')\n",
    "\n",
    "dataframe[['Time', 'UV', 'High_UV', 'Status']]"
   ]
  },
  {
   "cell_type": "code",
   "execution_count": 87,
   "metadata": {},
   "outputs": [
    {
     "data": {
      "image/png": "[encoded data removed]",
      "text/plain": [
       "<Figure size 700x600 with 1 Axes>"
      ]
     },
     "metadata": {},
     "output_type": "display_data"
    }
   ],
   "source": [
    "time = dataframe['Time'].head(12)\n",
    "uv = dataframe['UV'].head(12)\n",
    "\n",
    "#figure size\n",
    "fig, ax = plt.subplots(figsize = (7, 6))\n",
    "\n",
    "#Honrizontal Bar Plot\n",
    "bars = ax.bar(time[0:10], uv[0:10], color = 'grey')\n",
    "\n",
    "plt.xlabel('Time')\n",
    "plt.ylabel('UV')\n",
    "plt.title('UV vs. Time')\n",
    "\n",
    "for bar in bars:\n",
    "    height = bar.get_height()\n",
    "    ax.annotate(f'{height}', xy=(bar.get_x() + bar.get_width() / 2, height), xytext=(0, 3), textcoords='offset points',\n",
    "                ha='center', va='bottom')\n",
    "\n",
    "#Show plot\n",
    "plt.show()"
   ]
  },
  {
   "cell_type": "markdown",
   "metadata": {},
   "source": [
    "## CLOUD COVER"
   ]
  },
  {
   "cell_type": "code",
   "execution_count": 88,
   "metadata": {},
   "outputs": [
    {
     "data": {
      "text/html": [
       "<div>\n",
       "<style scoped>\n",
       "    .dataframe tbody tr th:only-of-type {\n",
       "        vertical-align: middle;\n",
       "    }\n",
       "\n",
       "    .dataframe tbody tr th {\n",
       "        vertical-align: top;\n",
       "    }\n",
       "\n",
       "    .dataframe thead th {\n",
       "        text-align: right;\n",
       "    }\n",
       "</style>\n",
       "<table border=\"1\" class=\"dataframe\">\n",
       "  <thead>\n",
       "    <tr style=\"text-align: right;\">\n",
       "      <th></th>\n",
       "      <th>Time</th>\n",
       "      <th>Cloud cover</th>\n",
       "    </tr>\n",
       "  </thead>\n",
       "  <tbody>\n",
       "    <tr>\n",
       "      <th>0</th>\n",
       "      <td>00:00</td>\n",
       "      <td>0 mm</td>\n",
       "    </tr>\n",
       "    <tr>\n",
       "      <th>1</th>\n",
       "      <td>03:00</td>\n",
       "      <td>0 mm</td>\n",
       "    </tr>\n",
       "    <tr>\n",
       "      <th>2</th>\n",
       "      <td>06:00</td>\n",
       "      <td>0 mm</td>\n",
       "    </tr>\n",
       "    <tr>\n",
       "      <th>3</th>\n",
       "      <td>09:00</td>\n",
       "      <td>0 mm</td>\n",
       "    </tr>\n",
       "    <tr>\n",
       "      <th>4</th>\n",
       "      <td>12:00</td>\n",
       "      <td>1.4 mm</td>\n",
       "    </tr>\n",
       "    <tr>\n",
       "      <th>5</th>\n",
       "      <td>15:00</td>\n",
       "      <td>0 mm</td>\n",
       "    </tr>\n",
       "    <tr>\n",
       "      <th>6</th>\n",
       "      <td>18:00</td>\n",
       "      <td>0.4 mm</td>\n",
       "    </tr>\n",
       "    <tr>\n",
       "      <th>7</th>\n",
       "      <td>21:00</td>\n",
       "      <td>0 mm</td>\n",
       "    </tr>\n",
       "  </tbody>\n",
       "</table>\n",
       "</div>"
      ],
      "text/plain": [
       "    Time Cloud cover\n",
       "0  00:00        0 mm\n",
       "1  03:00        0 mm\n",
       "2  06:00        0 mm\n",
       "3  09:00        0 mm\n",
       "4  12:00      1.4 mm\n",
       "5  15:00        0 mm\n",
       "6  18:00      0.4 mm\n",
       "7  21:00        0 mm"
      ]
     },
     "execution_count": 88,
     "metadata": {},
     "output_type": "execute_result"
    }
   ],
   "source": [
    "humidity = dataframe[['Time','Cloud cover']]\n",
    "humidity\n"
   ]
  },
  {
   "cell_type": "code",
   "execution_count": 89,
   "metadata": {},
   "outputs": [
    {
     "data": {
      "text/plain": [
       "0      0 \n",
       "1      0 \n",
       "2      0 \n",
       "3      0 \n",
       "4    1.4 \n",
       "5      0 \n",
       "6    0.4 \n",
       "7      0 \n",
       "Name: Cloud cover, dtype: object"
      ]
     },
     "execution_count": 89,
     "metadata": {},
     "output_type": "execute_result"
    }
   ],
   "source": [
    "dataframe['Cloud cover'].str[:-2]"
   ]
  },
  {
   "cell_type": "code",
   "execution_count": 90,
   "metadata": {},
   "outputs": [
    {
     "name": "stdout",
     "output_type": "stream",
     "text": [
      "{'0.4 ', '1.4 ', '0 '}\n"
     ]
    }
   ],
   "source": [
    "print(set(dataframe['Cloud cover'].str[:-2]))"
   ]
  },
  {
   "cell_type": "code",
   "execution_count": 91,
   "metadata": {},
   "outputs": [
    {
     "data": {
      "text/plain": [
       "0    0.0\n",
       "1    0.0\n",
       "2    0.0\n",
       "3    0.0\n",
       "4    1.4\n",
       "5    0.0\n",
       "6    0.4\n",
       "7    0.0\n",
       "Name: Cloud cover, dtype: float64"
      ]
     },
     "execution_count": 91,
     "metadata": {},
     "output_type": "execute_result"
    }
   ],
   "source": [
    "s = pd.Series(dataframe['Cloud cover'].str[:-2])\n",
    "s1 = pd.to_numeric(s, errors= 'ignore')\n",
    "s1\n"
   ]
  },
  {
   "cell_type": "code",
   "execution_count": 92,
   "metadata": {},
   "outputs": [
    {
     "data": {
      "image/png": "[encoded data removed]",
      "text/plain": [
       "<Figure size 700x400 with 1 Axes>"
      ]
     },
     "metadata": {},
     "output_type": "display_data"
    }
   ],
   "source": [
    "time = dataframe['Time'].head(12)\n",
    "cloud_cover = pd.to_numeric(dataframe['Cloud cover'].str[:-2], downcast= 'float')\n",
    "\n",
    "#figure size\n",
    "fig, ax = plt.subplots(figsize = (7, 4))\n",
    "\n",
    "#Honrizontal Bar Plot\n",
    "bars = ax.bar(time[0:10], cloud_cover[0:10], color = 'red')\n",
    "\n",
    "plt.xlabel('Time')\n",
    "plt.ylabel('Cloud cover in mm')\n",
    "plt.title('Cloud cover vs. Time')\n",
    "\n",
    "#Show plot\n",
    "plt.show()"
   ]
  },
  {
   "cell_type": "code",
   "execution_count": null,
   "metadata": {},
   "outputs": [],
   "source": []
  }
 ],
 "metadata": {
  "kernelspec": {
   "display_name": "base",
   "language": "python",
   "name": "python3"
  },
  "language_info": {
   "codemirror_mode": {
    "name": "ipython",
    "version": 3
   },
   "file_extension": ".py",
   "mimetype": "text/x-python",
   "name": "python",
   "nbconvert_exporter": "python",
   "pygments_lexer": "ipython3",
   "version": "3.11.5"
  }
 },
 "nbformat": 4,
 "nbformat_minor": 2
}
